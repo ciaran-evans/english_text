{
 "cells": [
  {
   "cell_type": "code",
   "execution_count": 1007,
   "metadata": {
    "collapsed": true
   },
   "outputs": [],
   "source": [
    "import numpy as np\n",
    "from matplotlib import pyplot as plt\n",
    "import glob\n",
    "from skimage.io import imread\n",
    "from skimage.draw import polygon_perimeter, polygon\n",
    "from skimage.morphology import label, medial_axis, skeletonize\n",
    "from scipy.ndimage.measurements import center_of_mass\n",
    "from skimage.draw import bezier_curve\n",
    "from scipy.ndimage.morphology import binary_fill_holes\n",
    "from skimage.transform import warp, SimilarityTransform\n",
    "from skimage.graph import route_through_array"
   ]
  },
  {
   "cell_type": "code",
   "execution_count": 297,
   "metadata": {
    "collapsed": true
   },
   "outputs": [],
   "source": [
    "img1 = 255 - imread('../images/trimmed_queries_divorce/divorce/G/0_extraction_doc_12_line_23_char_46_original_trim.png', as_grey=True) \n",
    "img2 = 255 - imread('../images/trimmed_queries_divorce/queries/G/extraction_doc_13_line_7_char_17_original_trim.png', as_grey=True)\n",
    "img3 = 255 - imread('../images/trimmed_queries_divorce/divorce/G/1_extraction_doc_5_line_35_char_49_original_trim.png', as_grey=True)"
   ]
  },
  {
   "cell_type": "code",
   "execution_count": 29,
   "metadata": {
    "collapsed": true
   },
   "outputs": [],
   "source": [
    "def intersection(ima, imb):\n",
    "    img = ima.copy()\n",
    "    img[np.where(ima != imb)] = 0\n",
    "    return img\n",
    "\n",
    "def union(ima, imb):\n",
    "    img = ima.copy()\n",
    "    img[np.where(imb > 0)] = 255\n",
    "    return img\n",
    "\n",
    "# returns the components of ima that are not in imb\n",
    "# (i.e., deletes imb from ima)\n",
    "def difference(ima, imb):\n",
    "    img = ima.copy()\n",
    "    img[np.where(imb > 0)] = 0\n",
    "    return img\n",
    "\n",
    "def create_rectangle(center, height, width, angle, filled = True, shape = (64, 96)):\n",
    "    rot_mat = np.array([[np.cos(angle), np.sin(angle)], [-1*np.sin(angle), np.cos(angle)]])\n",
    "    corners = np.array([[height/2.0, -1*height/2.0, -1*height/2.0, height/2.0],\n",
    "                       [width/2.0, width/2.0, -1*width/2.0, -1*width/2.0]])\n",
    "    corners =  np.transpose(np.matmul(rot_mat, corners) + np.array([[center[0]], [center[1]]])).astype(np.int32)\n",
    "    \n",
    "    rect = np.zeros((64, 96), dtype=np.uint8)\n",
    "    if filled:\n",
    "        rr, cc = polygon(corners[:,0],\n",
    "                                   corners[:,1], shape=rect.shape)\n",
    "    else:\n",
    "        rr, cc = polygon_perimeter(corners[:,0],\n",
    "                                   corners[:,1], shape=rect.shape, clip=True)\n",
    "    rect[rr, cc] = 255\n",
    "    return rect\n",
    "\n",
    "def endpoints(image, shape):\n",
    "    seg_intersect = intersection(shape, image)\n",
    "    labels = label(seg_intersect)\n",
    "    return [np.array(np.where(labels == 1))[:,0],\n",
    "           np.array(np.where(labels == 1))[:,-1],\n",
    "           np.array(np.where(labels == 2))[:,0],\n",
    "           np.array(np.where(labels == 2))[:,-1]]\n",
    "\n",
    "def midpoint(endpoints, mass_center, dist_shift = 7, to_center = True):\n",
    "    init_mid = (endpoints[0] + endpoints[1])/2.0\n",
    "    angle = np.arctan2((mass_center - init_mid)[0], (mass_center - init_mid)[1])\n",
    "    \n",
    "    if not to_center:\n",
    "        rot_mat = np.array([[np.cos(-angle), np.sin(-angle)], [-1*np.sin(-angle), np.cos(-angle)]])\n",
    "    else:\n",
    "        rot_mat = np.array([[np.cos(angle), np.sin(angle)], [-1*np.sin(angle), np.cos(angle)]])\n",
    "    return np.matmul(rot_mat, np.array([[0], [dist_shift]])) + np.array([[init_mid[0]], [init_mid[1]]])\n",
    "\n",
    "def bend_with_rect(image, rect_outline, filled_rect, dist_shift):\n",
    "    endpts = endpoints(image, rect_outline)\n",
    "    imnew = image.copy()\n",
    "    imnew[np.where(filled_rect > 0)] = 0\n",
    "    mid1 = midpoint([endpts[0], endpts[2]], center_of_mass(image), dist_shift).astype(np.uint8)\n",
    "    mid2 = midpoint([endpts[1], endpts[3]], center_of_mass(image), dist_shift).astype(np.uint8)\n",
    "    \n",
    "    # now draw two bezier curves that form the boundaries of the bend\n",
    "    rr, cc = bezier_curve(endpts[0][0], endpts[0][1], mid1[0][0], mid1[1][0],\n",
    "                         endpts[2][0], endpts[2][1], 2)\n",
    "    imnew[rr, cc] = 255\n",
    "\n",
    "    rr, cc = bezier_curve(endpts[1][0], endpts[1][1], mid2[0][0], mid2[1][0],\n",
    "                         endpts[3][0], endpts[3][1], 2)\n",
    "    imnew[rr, cc] = 255\n",
    "    \n",
    "    imnew = binary_fill_holes(imnew)\n",
    "    \n",
    "    return imnew\n",
    "    \n",
    "def bend_image(image, center=[50, 50], width=13, height=20, angle = 0, dist_shift = 7):\n",
    "    rect_outline = create_rectangle(center, height, width, angle, filled = False)\n",
    "    filled_rect = create_rectangle(center, height, width, angle, filled = True)\n",
    "    try:\n",
    "        return bend_with_rect(image, rect_outline, filled_rect, dist_shift)\n",
    "    except:\n",
    "        return image\n",
    "\n",
    "def band_break_image(image, center = [45, 35], width = 30, height=8, angle = -0.9):\n",
    "    filled_rect = create_rectangle(center, height, width, angle)\n",
    "    return difference(image, filled_rect)\n",
    "\n",
    "def notch_break_image(image, center=[32, 64], width = 6, height = 7, angle = 0, trapezoid = True):\n",
    "    if trapezoid:\n",
    "        break_shape = union(create_rectangle(center, height, width, angle),\n",
    "                           create_rectangle(center, height + 2, width - 2, angle))\n",
    "    else:\n",
    "        break_shape = create_rectangle(center, height, width, angle)\n",
    "    \n",
    "    return difference(image, break_shape)\n",
    "\n",
    "def center_image(image, new_mass_center = [34, 48]):\n",
    "    curr_center = center_of_mass(image)\n",
    "    tform = SimilarityTransform(translation=(int(curr_center[1] - new_mass_center[1]), \n",
    "                                             int(curr_center[0] - new_mass_center[0])))\n",
    "    #tform = SimilarityTransform(translation=(0, -10))\n",
    "    warped = warp(image, tform)\n",
    "    warped[np.where(warped > 0)] = 255\n",
    "    return warped\n",
    "\n",
    "def remove_junk(example_img, standard_img):\n",
    "    imnew = intersection(example_img, standard_img)\n",
    "    junk = difference(example_img, standard_img)\n",
    "    return imnew, junk\n",
    "\n",
    "def break_image(example_img, standard_img, breaking_fun):\n",
    "    imnew, junk = remove_junk(example_img, standard_img)\n",
    "    defect = breaking_fun(imnew)\n",
    "    return union(defect, junk)"
   ]
  },
  {
   "cell_type": "code",
   "execution_count": 30,
   "metadata": {},
   "outputs": [
    {
     "data": {
      "image/png": "[encoded data removed]",
      "text/plain": [
       "<matplotlib.figure.Figure at 0x7f5fa4e66c10>"
      ]
     },
     "metadata": {},
     "output_type": "display_data"
    },
    {
     "data": {
      "image/png": "[encoded data removed]",
      "text/plain": [
       "<matplotlib.figure.Figure at 0x7f5f9f137f90>"
      ]
     },
     "metadata": {},
     "output_type": "display_data"
    },
    {
     "data": {
      "image/png": "[encoded data removed]",
      "text/plain": [
       "<matplotlib.figure.Figure at 0x7f5f9ff9b150>"
      ]
     },
     "metadata": {},
     "output_type": "display_data"
    },
    {
     "data": {
      "image/png": "[encoded data removed]",
      "text/plain": [
       "<matplotlib.figure.Figure at 0x7f5f9f0fbed0>"
      ]
     },
     "metadata": {},
     "output_type": "display_data"
    }
   ],
   "source": [
    "g_files = glob.glob('../images/trimmed_queries_divorce/divorce/G/*.png')\n",
    "g_array = np.ndarray(shape=(len(g_files), 64, 96))\n",
    "for ind, f in enumerate(g_files):\n",
    "    g_array[ind,:,:] = center_image(255 - imread(f, as_grey=True))\n",
    "    \n",
    "avg_g = np.mean(g_array, axis=0)\n",
    "typical_g = avg_g.copy()\n",
    "typical_g[np.where(typical_g > 20)] = 255\n",
    "typical_g[np.where(typical_g < 255)] = 0\n",
    "\n",
    "\n",
    "img = g_array[2,:,:]\n",
    "plt.imshow(255 - img, cmap=\"gray\")\n",
    "plt.show()\n",
    "\n",
    "defect = break_image(img, typical_g, (lambda x: bend_image(x, center = [50, 50], height=18)))\n",
    "plt.imshow(255 - defect, cmap=\"gray\")\n",
    "plt.show()\n",
    "\n",
    "defect = break_image(img, typical_g, band_break_image)\n",
    "plt.imshow(255 - defect, cmap=\"gray\")\n",
    "plt.show()\n",
    "\n",
    "defect = break_image(img, typical_g, notch_break_image)\n",
    "plt.imshow(255 - defect, cmap=\"gray\")\n",
    "plt.show()"
   ]
  },
  {
   "cell_type": "code",
   "execution_count": 296,
   "metadata": {},
   "outputs": [
    {
     "data": {
      "image/png": "[encoded data removed]",
      "text/plain": [
       "<matplotlib.figure.Figure at 0x7f5fa4ff8a90>"
      ]
     },
     "metadata": {},
     "output_type": "display_data"
    }
   ],
   "source": [
    "def create_rectangle(center, height, width, angle, filled = True, shape = (64, 96)):\n",
    "    rot_mat = np.array([[np.cos(angle), np.sin(angle)], [-1*np.sin(angle), np.cos(angle)]])\n",
    "    corners = np.array([[height/2.0, -1*height/2.0, -1*height/2.0, height/2.0],\n",
    "                       [width/2.0, width/2.0, -1*width/2.0, -1*width/2.0]])\n",
    "    corners =  np.transpose(np.matmul(rot_mat, corners) + np.array([[center[0]], [center[1]]])).astype(np.int32)\n",
    "    \n",
    "    rect = np.zeros((64, 96), dtype=np.uint8)\n",
    "    if filled:\n",
    "        rr, cc = polygon(corners[:,0],\n",
    "                                   corners[:,1], shape=rect.shape)\n",
    "    else:\n",
    "        rr, cc = polygon_perimeter(corners[:,0],\n",
    "                                   corners[:,1], shape=rect.shape, clip=True)\n",
    "    rect[rr, cc] = 255\n",
    "    return rect, corners\n",
    "\n",
    "def find_endpoints(img_skel, center):\n",
    "    square, _ = create_rectangle(center, 10, 10, 0, filled = False)\n",
    "    seg_intersect = intersection(img_skel, square)\n",
    "    labels = label(seg_intersect)\n",
    "    return [np.array(np.where(labels == 1))[:,0],\n",
    "           np.array(np.where(labels == 2))[:,0]]\n",
    "\n",
    "def perpendicular_angle(img_skel, center):\n",
    "    endpts = find_endpoints(img_skel, center)\n",
    "    angle = np.arctan2((endpts[0] - endpts[1])[0], (endpts[0] - endpts[1])[1])\n",
    "    return [angle + np.pi/2.0, angle - np.pi/2.0]\n",
    "\n",
    "def shift_midpoint(endpts, angle, dist_shift = 7):\n",
    "    init_mid = (endpts[0] + endpts[1])/2.0\n",
    "    rot_mat = np.array([[np.cos(angle), np.sin(angle)], [-1*np.sin(angle), np.cos(angle)]])\n",
    "    return np.matmul(rot_mat, np.array([[0], [dist_shift]])) + np.array([[init_mid[0]], [init_mid[1]]])\n",
    "\n",
    "def bend_with_rect(image, rect_outline, filled_rect, angle, dist_shift = 7):\n",
    "    seg_intersect = intersection(rect_outline, image)\n",
    "    labels = label(seg_intersect)\n",
    "    endpts = [np.array(np.where(labels == 1))[:,0], \n",
    "              np.array(np.where(labels == 1))[:,-1], \n",
    "              np.array(np.where(labels == 2))[:,0], \n",
    "              np.array(np.where(labels == 2))[:,-1]]\n",
    "    \n",
    "    mid1 = shift_midpoint([endpts[0], endpts[2]], angle, dist_shift).astype(np.uint8)\n",
    "    mid2 = shift_midpoint([endpts[1], endpts[3]], angle, dist_shift).astype(np.uint8)\n",
    "    \n",
    "    imnew = image.copy()\n",
    "    imnew[np.where(filled_rect > 0)] = 0\n",
    "    \n",
    "    rr, cc = bezier_curve(endpts[0][0], endpts[0][1], mid1[0][0], mid1[1][0],\n",
    "                         endpts[2][0], endpts[2][1], 2)\n",
    "    imnew[rr, cc] = 255\n",
    "\n",
    "    rr, cc = bezier_curve(endpts[1][0], endpts[1][1], mid2[0][0], mid2[1][0],\n",
    "                         endpts[3][0], endpts[3][1], 2)\n",
    "    imnew[rr, cc] = 255\n",
    "    \n",
    "    imnew = binary_fill_holes(imnew)\n",
    "    \n",
    "    return imnew\n",
    "\n",
    "def random_center_angle(image):\n",
    "    skel = skeletonize(image/255.0)*255.0\n",
    "    skel_pts = np.where(skel > 0)\n",
    "    center_index = np.random.choice(range(len(skel_pts[0])), 1)\n",
    "    center = [skel_pts[0][center_index][0], skel_pts[1][center_index][0]]\n",
    "    angle = np.random.choice(perpendicular_angle(skel, center), 1)\n",
    "    return center, angle[0]\n",
    "\n",
    "def get_width(image, center):\n",
    "    _, dist = medial_axis(image, return_distance = True)\n",
    "    return 2*(int(dist[center[0], center[1]]) + 2), dist\n",
    "    \n",
    "\n",
    "def bend_image(image):\n",
    "    center, angle = random_center_angle(image)\n",
    "    width, dist = get_width(image, center)\n",
    "    _, corners = create_rectangle(center, 13, width, angle)\n",
    "    \n",
    "    rect_outline, _ = create_rectangle(center, 15, width, angle, filled=False)\n",
    "    filled_rect, _ = create_rectangle(center, 15, width, angle)\n",
    "    \n",
    "    return bend_with_rect(image, rect_outline, filled_rect, angle)\n",
    "    \n",
    "\n",
    "new = bend_image(img1)\n",
    "plt.imshow(new)\n",
    "plt.show()\n",
    "\n",
    "#center, angle = random_center_angle(img1)\n",
    "#center, angle"
   ]
  },
  {
   "cell_type": "code",
   "execution_count": 262,
   "metadata": {},
   "outputs": [
    {
     "data": {
      "image/png": "[encoded data removed]",
      "text/plain": [
       "<matplotlib.figure.Figure at 0x7f5f9ed21ad0>"
      ]
     },
     "metadata": {},
     "output_type": "display_data"
    }
   ],
   "source": [
    "width = get_width(img1, center)\n",
    "width\n",
    "\n",
    "rect_outline = create_rectangle(center, 15, width, angle, filled=False)\n",
    "filled_rect = create_rectangle(center, 15, width, angle)\n",
    "\n",
    "plt.imshow(img1 + rect_outline)\n",
    "plt.show()"
   ]
  },
  {
   "cell_type": "code",
   "execution_count": 264,
   "metadata": {},
   "outputs": [
    {
     "data": {
      "image/png": "[encoded data removed]",
      "text/plain": [
       "<matplotlib.figure.Figure at 0x7f5f9eee69d0>"
      ]
     },
     "metadata": {},
     "output_type": "display_data"
    },
    {
     "data": {
      "image/png": "[encoded data removed]",
      "text/plain": [
       "<matplotlib.figure.Figure at 0x7f5fa830fc10>"
      ]
     },
     "metadata": {},
     "output_type": "display_data"
    }
   ],
   "source": [
    "seg_intersect = intersection(rect_outline, img1)\n",
    "labels = label(seg_intersect)\n",
    "endpts = [np.array(np.where(labels == 1))[:,0], \n",
    "          np.array(np.where(labels == 1))[:,-1], \n",
    "          np.array(np.where(labels == 2))[:,0], \n",
    "          np.array(np.where(labels == 2))[:,-1]]\n",
    "    \n",
    "mid1 = shift_midpoint([endpts[0], endpts[2]], angle, 7).astype(np.uint8)\n",
    "mid2 = shift_midpoint([endpts[1], endpts[3]], angle, 7).astype(np.uint8)\n",
    "    \n",
    "imnew = img1.copy()\n",
    "imnew[np.where(filled_rect > 0)] = 0\n",
    "    \n",
    "rr, cc = bezier_curve(endpts[0][0], endpts[0][1], mid1[0][0], mid1[1][0],\n",
    "                         endpts[2][0], endpts[2][1], 2)\n",
    "imnew[rr, cc] = 255\n",
    "\n",
    "rr, cc = bezier_curve(endpts[1][0], endpts[1][1], mid2[0][0], mid2[1][0],\n",
    "                         endpts[3][0], endpts[3][1], 2)\n",
    "imnew[rr, cc] = 255\n",
    "\n",
    "plt.imshow(imnew)\n",
    "plt.show()\n",
    "plt.imshow(seg_intersect)\n",
    "plt.show()"
   ]
  },
  {
   "cell_type": "code",
   "execution_count": null,
   "metadata": {
    "collapsed": true
   },
   "outputs": [],
   "source": [
    "angle = perpendicular_angle(skel, [30, 35])[0]\n",
    "\n",
    "rect_outline = create_rectangle([30, 35], 15, 30, angle, filled=False)\n",
    "filled_rect = create_rectangle([30, 35], 15, 30, angle, filled=True)\n",
    "\n",
    "plt.imshow(img1)\n",
    "plt.show()\n",
    "new = bend_with_rect(img1, rect_outline, filled_rect, angle)\n",
    "plt.imshow(new)\n",
    "plt.show()"
   ]
  },
  {
   "cell_type": "code",
   "execution_count": 298,
   "metadata": {},
   "outputs": [
    {
     "data": {
      "image/png": "[encoded data removed]",
      "text/plain": [
       "<matplotlib.figure.Figure at 0x7f5fa59bdf50>"
      ]
     },
     "metadata": {},
     "output_type": "display_data"
    }
   ],
   "source": [
    "from skimage.morphology import medial_axis\n",
    "_, dist = medial_axis(img3, return_distance=True)\n",
    "plt.imshow(dist)\n",
    "plt.show()"
   ]
  },
  {
   "cell_type": "code",
   "execution_count": 391,
   "metadata": {},
   "outputs": [
    {
     "data": {
      "image/png": "[encoded data removed]",
      "text/plain": [
       "<matplotlib.figure.Figure at 0x7f5f9ee3cc90>"
      ]
     },
     "metadata": {},
     "output_type": "display_data"
    },
    {
     "data": {
      "image/png": "[encoded data removed]",
      "text/plain": [
       "<matplotlib.figure.Figure at 0x7f5f9ef64890>"
      ]
     },
     "metadata": {},
     "output_type": "display_data"
    }
   ],
   "source": [
    "def create_rectangle(center, height, width, angle, filled = True, shape = (64, 96)):\n",
    "    rot_mat = np.array([[np.cos(angle), np.sin(angle)], [-1*np.sin(angle), np.cos(angle)]])\n",
    "    corners = np.array([[height/2.0, -1*height/2.0, -1*height/2.0, height/2.0],\n",
    "                       [width/2.0, width/2.0, -1*width/2.0, -1*width/2.0]])\n",
    "    corners =  np.transpose(np.matmul(rot_mat, corners) + np.array([[center[0]], [center[1]]])).astype(np.int32)\n",
    "    \n",
    "    rect = np.zeros((64, 96), dtype=np.uint8)\n",
    "    if filled:\n",
    "        rr, cc = polygon(corners[:,0],\n",
    "                                   corners[:,1], shape=rect.shape)\n",
    "    else:\n",
    "        rr, cc = polygon_perimeter(corners[:,0],\n",
    "                                   corners[:,1], shape=rect.shape, clip=True)\n",
    "    rect[rr, cc] = 255\n",
    "    return rect\n",
    "\n",
    "def find_endpoints(img_skel, center, height = 10, width = 10, angle = 0):\n",
    "    rect = create_rectangle(center, height, width, angle, filled = False)\n",
    "    seg_intersect = intersection(img_skel, rect)\n",
    "    labels = label(seg_intersect)\n",
    "    return [np.array(np.where(labels == 1))[:,0],\n",
    "           np.array(np.where(labels == 2))[:,0]]\n",
    "\n",
    "def perpendicular_angle(img_skel, center):\n",
    "    endpts = find_endpoints(img_skel, center)\n",
    "    angle = np.arctan2((endpts[0] - endpts[1])[0], (endpts[0] - endpts[1])[1])\n",
    "    return [angle + np.pi/2.0, angle - np.pi/2.0]\n",
    "\n",
    "def random_center_angle(skeleton):\n",
    "    skel_pts = np.where(skeleton > 0)\n",
    "    center_index = np.random.choice(range(len(skel_pts[0])), 1)\n",
    "    center = [skel_pts[0][center_index][0], skel_pts[1][center_index][0]]\n",
    "    angle = np.random.choice(perpendicular_angle(skeleton, center), 1)\n",
    "    return center, angle[0]\n",
    "\n",
    "def shift_midpoint(endpts, angle, dist_shift = 7):\n",
    "    init_mid = (endpts[0] + endpts[1])/2.0\n",
    "    rot_mat = np.array([[np.cos(angle), np.sin(angle)], [-1*np.sin(angle), np.cos(angle)]])\n",
    "    return np.matmul(rot_mat, np.array([[0], [dist_shift]])) + np.array([[init_mid[0]], [init_mid[1]]])\n",
    "\n",
    "def bend_skel_with_rect(skel, center, height, width, angle, dist_shift = 7):\n",
    "    endpts = find_endpoints(skel, center, height, width, angle)\n",
    "    \n",
    "    mid = shift_midpoint([endpts[0], endpts[1]], angle, dist_shift).astype(np.uint8)\n",
    "    \n",
    "    # delete the points from the path\n",
    "    path, _ = route_through_array(255 - skel, endpts[0], endpts[1])\n",
    "    skelnew = skel.copy()\n",
    "    for pt in path:\n",
    "        skelnew[pt] = 0\n",
    "    \n",
    "    rr, cc = bezier_curve(endpts[0][0], endpts[0][1], mid[0][0], mid[1][0],\n",
    "                         endpts[1][0], endpts[1][1], 2)\n",
    "    skelnew[rr, cc] = 255\n",
    "    \n",
    "    return skelnew\n",
    "\n",
    "def bend_skeleton(skel):\n",
    "    center, angle = random_center_angle(skel)\n",
    "    return bend_skel_with_rect(skel, center, 13, 10, angle)\n",
    "    \n",
    "\n",
    "\n",
    "\n",
    "skel = skeletonize(img1/255.)*255\n",
    "plt.imshow(skel)\n",
    "plt.show()\n",
    "\n",
    "# , [30, 32], 15, 10, 0\n",
    "skelnew = bend_skeleton(skel)\n",
    "plt.imshow(skelnew)\n",
    "plt.show()"
   ]
  },
  {
   "cell_type": "code",
   "execution_count": 1006,
   "metadata": {},
   "outputs": [
    {
     "data": {
      "image/png": "[encoded data removed]",
      "text/plain": [
       "<matplotlib.figure.Figure at 0x7f5f9e039ad0>"
      ]
     },
     "metadata": {},
     "output_type": "display_data"
    }
   ],
   "source": [
    "def closest_point(node, nodes):\n",
    "    nodes = np.asarray(nodes)\n",
    "    dist_2 = np.sum((nodes - node)**2, axis=1)\n",
    "    return nodes[np.argmin(dist_2),:].tolist()\n",
    "\n",
    "def choose_endpts(skeleton, distance):\n",
    "    skel_pts = np.where(skeleton > 0)\n",
    "    \n",
    "    possible_pts = []\n",
    "    for attempt in range(1000):\n",
    "        rand_index = np.random.choice(range(len(skel_pts[0])), 1)\n",
    "        end1 = [skel_pts[0][rand_index][0], skel_pts[1][rand_index][0]]\n",
    "    \n",
    "        costs = 255 - skel + 1\n",
    "        for i in range(len(skel_pts[0])):\n",
    "            pt = [skel_pts[0][i], skel_pts[1][i]]\n",
    "            _, dist = route_through_array(costs, end1, pt, geometric=False)\n",
    "            if dist == distance:\n",
    "                possible_pts = possible_pts + [pt]\n",
    "        if len(possible_pts) > 0:\n",
    "            break\n",
    "    end2 = possible_pts[np.random.choice(range(len(possible_pts)), 1)[0]]\n",
    "    \n",
    "    return end1, end2\n",
    "\n",
    "def perpendicular_angle(end1, end2):\n",
    "    angle = np.arctan2((np.array(end1) - np.array(end2))[0], (np.array(end1) - np.array(end2))[1])\n",
    "    return [angle + np.pi/2.0, angle - np.pi/2.0]\n",
    "\n",
    "def random_endpts_angle(end1, end2):\n",
    "    angle = np.random.choice(perpendicular_angle(end1, end2), 1)\n",
    "    return angle[0]\n",
    "\n",
    "def shift_midpoint(end1, end2, angle, dist_shift):\n",
    "    init_mid = (np.array(end1) + np.array(end2))/2.0\n",
    "    rot_mat = np.array([[np.cos(angle), np.sin(angle)], [-1*np.sin(angle), np.cos(angle)]])\n",
    "    return np.matmul(rot_mat, np.array([[0], [dist_shift]])) + np.array([[init_mid[0]], [init_mid[1]]])\n",
    "\n",
    "def bend_skel_with_endpts(skel, end1, end2, dist_shift):\n",
    "    angle = random_endpts_angle(end1, end2)\n",
    "    mid = shift_midpoint(end1, end2, angle, dist_shift).astype(np.uint8)\n",
    "    \n",
    "    # delete the points from the path\n",
    "    path, _ = route_through_array(255 - skel, end1, end2)\n",
    "    skelnew = skel.copy()\n",
    "    for pt in path:\n",
    "        skelnew[pt] = 0\n",
    "    \n",
    "    rr, cc = bezier_curve(end1[0], end1[1], mid[0][0], mid[1][0],\n",
    "                        end2[0], end2[1], 2)\n",
    "    skelnew[rr, cc] = 255\n",
    "    \n",
    "    return skelnew\n",
    "\n",
    "def bend_skel(skel, distance, dist_shift):\n",
    "    end1, end2 = choose_endpts(skel, distance)\n",
    "    return bend_skel_with_endpts(skel, end1, end2, dist_shift)\n",
    "\n",
    "def remove_path(image, orig_skel, new_skel):\n",
    "    imnew = image.copy()\n",
    "    path = np.column_stack(np.where(difference(orig_skel, new_skel) > 0)).tolist()\n",
    "    \n",
    "    skel_pts = np.column_stack(np.where(orig_skel > 0)).tolist()\n",
    "    for pt in np.column_stack(np.where(image > 0)).tolist():\n",
    "        if closest_point(pt, skel_pts) in path:\n",
    "            imnew[pt[0], pt[1]] = 0\n",
    "    return imnew\n",
    "\n",
    "def add_bend(image, orig_skel, bent_skel):\n",
    "    imnew = remove_path(image, orig_skel, bent_skel)\n",
    "    new_section = np.column_stack(np.where(difference(bent_skel, orig_skel) > 0)).tolist()\n",
    "    old_section = np.column_stack(np.where(difference(orig_skel, bent_skel) > 0)).tolist()\n",
    "    \n",
    "    _, dist = medial_axis(image, return_distance=True)\n",
    "    \n",
    "    for pt in new_section:\n",
    "        old_pt = closest_point(pt, old_section)\n",
    "        size = int(dist[old_pt[0], old_pt[1]]) + 1\n",
    "        imnew = imnew + create_rectangle(pt, size, size, 0)\n",
    "    \n",
    "    imnew[np.where(imnew > 0)] = 255\n",
    "    \n",
    "    return imnew\n",
    "\n",
    "def bend_image(image, distance = 13, dist_shift = 9):\n",
    "    skel = skeletonize(image/255.)*255.\n",
    "    bent_skel = bend_skel(skel, distance, dist_shift)\n",
    "    imnew = add_bend(image, skel, bent_skel)\n",
    "    return imnew\n",
    "    \n",
    "\n",
    "imnew = bend_image(img1)\n",
    "plt.imshow(imnew)\n",
    "plt.show()"
   ]
  }
 ],
 "metadata": {
  "kernelspec": {
   "display_name": "Python 2",
   "language": "python",
   "name": "python2"
  },
  "language_info": {
   "codemirror_mode": {
    "name": "ipython",
    "version": 2
   },
   "file_extension": ".py",
   "mimetype": "text/x-python",
   "name": "python",
   "nbconvert_exporter": "python",
   "pygments_lexer": "ipython2",
   "version": "2.7.14"
  }
 },
 "nbformat": 4,
 "nbformat_minor": 2
}
