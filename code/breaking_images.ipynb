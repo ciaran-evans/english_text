{
 "cells": [
  {
   "cell_type": "code",
   "execution_count": 2,
   "metadata": {
    "collapsed": true
   },
   "outputs": [],
   "source": [
    "import numpy as np\n",
    "import cv2\n",
    "from matplotlib import pyplot as plt"
   ]
  },
  {
   "cell_type": "code",
   "execution_count": 41,
   "metadata": {
    "collapsed": true
   },
   "outputs": [],
   "source": [
    "img1 = 255 - cv2.imread('../images/trimmed_queries_divorce/divorce/G/0_extraction_doc_0_line_20_char_36_original_trim.png', 0) \n",
    "img2 = 255 - cv2.imread('../images/trimmed_queries_divorce/queries/G/extraction_doc_13_line_7_char_17_original_trim.png', 0)\n",
    "img3 = 255 - cv2.imread('../images/trimmed_queries_divorce/divorce/G/1_extraction_doc_5_line_35_char_49_original_trim.png', 0)"
   ]
  },
  {
   "cell_type": "code",
   "execution_count": 176,
   "metadata": {},
   "outputs": [
    {
     "data": {
      "image/png": "[encoded data removed]",
      "text/plain": [
       "<matplotlib.figure.Figure at 0x7f763ff4c810>"
      ]
     },
     "metadata": {},
     "output_type": "display_data"
    },
    {
     "data": {
      "image/png": "[encoded data removed]",
      "text/plain": [
       "<matplotlib.figure.Figure at 0x7f7640033310>"
      ]
     },
     "metadata": {},
     "output_type": "display_data"
    },
    {
     "data": {
      "image/png": "[encoded data removed]",
      "text/plain": [
       "<matplotlib.figure.Figure at 0x7f763ce50b90>"
      ]
     },
     "metadata": {},
     "output_type": "display_data"
    }
   ],
   "source": [
    "# helper function used to specify the corners of a rectangle with specified dimensions, orientation,\n",
    "# and location\n",
    "def create_rectangle(center, height, width, angle):\n",
    "    rot_mat = np.array([[np.cos(angle), np.sin(angle)], [-1*np.sin(angle), np.cos(angle)]])\n",
    "    corners = np.array([[width/2.0, width/2.0, -1*width/2.0, -1*width/2.0],\n",
    "                       [height/2.0, -1*height/2.0, -1*height/2.0, height/2.0]])\n",
    "    return np.transpose(np.matmul(rot_mat, corners) + np.array([[center[0]], [center[1]]])).astype(np.int32)\n",
    "\n",
    "# function designed to add a \"bar break\" (i.e., delete a band of pixels) to an input G\n",
    "# default parameters are designed to align with an example of the break that I found in the images\n",
    "# but different parameters can be used to generate breaks in other locations on the G\n",
    "def bar_break(image, center = [38, 40], height = 7, width = 25, angle = 0.9):\n",
    "    ar = np.zeros((64, 96)) # create a black background\n",
    "    rect = create_rectangle(center, height, width, angle) # get rectangle corners\n",
    "    cv2.fillConvexPoly(ar, rect, 255) # draw the rectangle in white\n",
    "    \n",
    "    # now delete the area covered by the rectangle and return the newly broken G\n",
    "    imgnew = image - ar\n",
    "    imgnew[np.where(imgnew < 0)] = 0\n",
    "    return 255 - imgnew\n",
    "\n",
    "# testing out the break on non-defective G\n",
    "imnew = bar_break(img1)\n",
    "plt.imshow(imnew, cmap=\"gray\")\n",
    "plt.show()\n",
    "\n",
    "# the next two images show a real example of the break and show that the default parameters do\n",
    "# not change this example\n",
    "imnew2 = bar_break(img2)\n",
    "plt.imshow(imnew2, cmap=\"gray\")\n",
    "plt.show()\n",
    "\n",
    "plt.imshow(255 - img2, cmap=\"gray\")\n",
    "plt.show()\n"
   ]
  },
  {
   "cell_type": "code",
   "execution_count": 44,
   "metadata": {},
   "outputs": [
    {
     "data": {
      "image/png": "[encoded data removed]",
      "text/plain": [
       "<matplotlib.figure.Figure at 0x7fb57d44eb10>"
      ]
     },
     "metadata": {},
     "output_type": "display_data"
    },
    {
     "data": {
      "image/png": "[encoded data removed]",
      "text/plain": [
       "<matplotlib.figure.Figure at 0x7fb57d665410>"
      ]
     },
     "metadata": {},
     "output_type": "display_data"
    },
    {
     "data": {
      "image/png": "[encoded data removed]",
      "text/plain": [
       "<matplotlib.figure.Figure at 0x7fb57d58d850>"
      ]
     },
     "metadata": {},
     "output_type": "display_data"
    }
   ],
   "source": [
    "from skimage.draw import bezier_curve\n",
    "from scipy.ndimage.morphology import binary_fill_holes\n",
    "\n",
    "# plot an example of the bend defect we are trying to capture\n",
    "plt.imshow(255 - img3, cmap=\"gray\")\n",
    "plt.show()\n",
    "\n",
    "# plot the non-defective G that we want to bend\n",
    "plt.imshow(255 - img1, cmap=\"gray\")\n",
    "plt.show()\n",
    "\n",
    "# function to add a bend to the base of the G\n",
    "# currently does not allow bends to be added to other locations on the G\n",
    "# default parameters might not work for shifted images\n",
    "def bend_base(image, start_col = 42, end_col = 55, start_row = 40, end_row = 60):\n",
    "    # begin by deleting the area we will add the bend to\n",
    "    imnew = image.copy()\n",
    "    for row in range(start_row, end_row):\n",
    "        for col in range(start_col, end_col):\n",
    "            imnew[row, col] = 0\n",
    "    \n",
    "    # the y-axis locations of the top section of the G falling into the box we deleted\n",
    "    # this is roughly where we will add the upper curve of the bend\n",
    "    g_start_row_left = np.min(np.where(image[start_row:end_row, start_col] > 0)) + start_row\n",
    "    g_end_row_left = np.max(np.where(image[start_row:end_row, start_col] > 0)) + start_row\n",
    "    \n",
    "    # the y-axis locations of the bottom section of the G falling into the box we deleted\n",
    "    # this is roughly where we will add the lower curve of the bend\n",
    "    g_start_row_right = np.min(np.where(image[start_row:end_row, end_col] > 0)) + start_row\n",
    "    g_end_row_right = np.max(np.where(image[start_row:end_row, end_col] > 0)) + start_row\n",
    "\n",
    "    # now draw two bezier curves that form the boundaries of the bend\n",
    "    rr, cc = bezier_curve(g_start_row_left, start_col, g_start_row_left - 3, start_col + 8,\n",
    "                         g_start_row_right, end_col, 2)\n",
    "    imnew[rr, cc] = 255\n",
    "\n",
    "    rr, cc = bezier_curve(g_end_row_left, start_col, g_end_row_left - 6, start_col + 4,\n",
    "                         g_end_row_right, end_col, 2)\n",
    "    imnew[rr, cc] = 255\n",
    "    \n",
    "    # finally, fill in the gap between the boundary curves to get the bent G\n",
    "    imnew = binary_fill_holes(imnew)\n",
    "    \n",
    "    return imnew\n",
    "\n",
    "imnew = bend_base(img1)\n",
    "\n",
    "        \n",
    "plt.imshow(255 - imnew, cmap=\"gray\")\n",
    "plt.show()"
   ]
  }
 ],
 "metadata": {
  "kernelspec": {
   "display_name": "Python 2",
   "language": "python",
   "name": "python2"
  },
  "language_info": {
   "codemirror_mode": {
    "name": "ipython",
    "version": 2
   },
   "file_extension": ".py",
   "mimetype": "text/x-python",
   "name": "python",
   "nbconvert_exporter": "python",
   "pygments_lexer": "ipython2",
   "version": "2.7.14"
  }
 },
 "nbformat": 4,
 "nbformat_minor": 2
}
