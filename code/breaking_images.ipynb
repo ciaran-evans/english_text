{
 "cells": [
  {
   "cell_type": "code",
   "execution_count": 12,
   "metadata": {
    "collapsed": true
   },
   "outputs": [],
   "source": [
    "import numpy as np\n",
    "from matplotlib import pyplot as plt\n",
    "import glob\n",
    "from skimage.io import imread\n",
    "from skimage.draw import polygon_perimeter, polygon\n",
    "from skimage.morphology import label\n",
    "from skimage.morphology import medial_axis\n",
    "from scipy.ndimage.measurements import center_of_mass\n",
    "from skimage.draw import bezier_curve\n",
    "from scipy.ndimage.morphology import binary_fill_holes\n",
    "from skimage.transform import warp\n",
    "from skimage.transform import SimilarityTransform"
   ]
  },
  {
   "cell_type": "code",
   "execution_count": 13,
   "metadata": {},
   "outputs": [],
   "source": [
    "img1 = 255 - imread('../images/trimmed_queries_divorce/divorce/G/0_extraction_doc_12_line_23_char_46_original_trim.png', as_grey=True) \n",
    "img2 = 255 - imread('../images/trimmed_queries_divorce/queries/G/extraction_doc_13_line_7_char_17_original_trim.png', as_grey=True)\n",
    "img3 = 255 - imread('../images/trimmed_queries_divorce/divorce/G/1_extraction_doc_5_line_35_char_49_original_trim.png', as_grey=True)"
   ]
  },
  {
   "cell_type": "code",
   "execution_count": 14,
   "metadata": {
    "collapsed": true
   },
   "outputs": [],
   "source": [
    "def intersection(ima, imb):\n",
    "    img = ima.copy()\n",
    "    img[np.where(ima != imb)] = 0\n",
    "    return img\n",
    "\n",
    "def union(ima, imb):\n",
    "    img = ima.copy()\n",
    "    img[np.where(imb > 0)] = 255\n",
    "    return img\n",
    "\n",
    "# returns the components of ima that are not in imb\n",
    "# (i.e., deletes imb from ima)\n",
    "def difference(ima, imb):\n",
    "    img = ima.copy()\n",
    "    img[np.where(imb > 0)] = 0\n",
    "    return img\n",
    "\n",
    "def create_rectangle(center, height, width, angle, filled = True, shape = (64, 96)):\n",
    "    rot_mat = np.array([[np.cos(angle), np.sin(angle)], [-1*np.sin(angle), np.cos(angle)]])\n",
    "    corners = np.array([[height/2.0, -1*height/2.0, -1*height/2.0, height/2.0],\n",
    "                       [width/2.0, width/2.0, -1*width/2.0, -1*width/2.0]])\n",
    "    corners =  np.transpose(np.matmul(rot_mat, corners) + np.array([[center[0]], [center[1]]])).astype(np.int32)\n",
    "    \n",
    "    rect = np.zeros((64, 96), dtype=np.uint8)\n",
    "    if filled:\n",
    "        rr, cc = polygon(corners[:,0],\n",
    "                                   corners[:,1], shape=rect.shape)\n",
    "    else:\n",
    "        rr, cc = polygon_perimeter(corners[:,0],\n",
    "                                   corners[:,1], shape=rect.shape, clip=True)\n",
    "    rect[rr, cc] = 255\n",
    "    return rect\n",
    "\n",
    "def endpoints(image, rect):\n",
    "    seg_intersect = intersection(rect, image)\n",
    "    labels = label(seg_intersect)\n",
    "    return [np.array(np.where(labels == 1))[:,0],\n",
    "           np.array(np.where(labels == 1))[:,-1],\n",
    "           np.array(np.where(labels == 2))[:,0],\n",
    "           np.array(np.where(labels == 2))[:,-1]]\n",
    "\n",
    "def midpoint(endpoints, mass_center, dist_shift = 7, to_center = True):\n",
    "    init_mid = (endpoints[0] + endpoints[1])/2.0\n",
    "    angle = np.arctan2((mass_center - init_mid)[0], (mass_center - init_mid)[1])\n",
    "    \n",
    "    if not to_center:\n",
    "        rot_mat = np.array([[np.cos(-angle), np.sin(-angle)], [-1*np.sin(-angle), np.cos(-angle)]])\n",
    "    else:\n",
    "        rot_mat = np.array([[np.cos(angle), np.sin(angle)], [-1*np.sin(angle), np.cos(angle)]])\n",
    "    return np.matmul(rot_mat, np.array([[0], [dist_shift]])) + np.array([[init_mid[0]], [init_mid[1]]])\n",
    "\n",
    "def bend_with_rect(image, rect_outline, filled_rect, dist_shift):\n",
    "    endpts = endpoints(image, rect_outline)\n",
    "    imnew = image.copy()\n",
    "    imnew[np.where(filled_rect > 0)] = 0\n",
    "    mid1 = midpoint([endpts[0], endpts[2]], center_of_mass(image), dist_shift).astype(np.uint8)\n",
    "    mid2 = midpoint([endpts[1], endpts[3]], center_of_mass(image), dist_shift).astype(np.uint8)\n",
    "    \n",
    "    # now draw two bezier curves that form the boundaries of the bend\n",
    "    rr, cc = bezier_curve(endpts[0][0], endpts[0][1], mid1[0][0], mid1[1][0],\n",
    "                         endpts[2][0], endpts[2][1], 2)\n",
    "    imnew[rr, cc] = 255\n",
    "\n",
    "    rr, cc = bezier_curve(endpts[1][0], endpts[1][1], mid2[0][0], mid2[1][0],\n",
    "                         endpts[3][0], endpts[3][1], 2)\n",
    "    imnew[rr, cc] = 255\n",
    "    \n",
    "    imnew = binary_fill_holes(imnew)\n",
    "    \n",
    "    return imnew\n",
    "    \n",
    "def bend_image(image, center=[50, 50], width=13, height=20, angle = 0, dist_shift = 7):\n",
    "    rect_outline = create_rectangle(center, height, width, angle, filled = False)\n",
    "    filled_rect = create_rectangle(center, height, width, angle, filled = True)\n",
    "    try:\n",
    "        return bend_with_rect(image, rect_outline, filled_rect, dist_shift)\n",
    "    except:\n",
    "        return image\n",
    "\n",
    "def band_break_image(image, center = [45, 35], width = 30, height=8, angle = -0.9):\n",
    "    filled_rect = create_rectangle(center, height, width, angle)\n",
    "    return difference(image, filled_rect)\n",
    "\n",
    "def notch_break_image(image, center=[32, 64], width = 6, height = 7, angle = 0, trapezoid = True):\n",
    "    if trapezoid:\n",
    "        break_shape = union(create_rectangle(center, height, width, angle),\n",
    "                           create_rectangle(center, height + 2, width - 2, angle))\n",
    "    else:\n",
    "        break_shape = create_rectangle(center, height, width, angle)\n",
    "    \n",
    "    return difference(image, break_shape)\n",
    "\n",
    "def center_image(image, new_mass_center = [34, 48]):\n",
    "    curr_center = center_of_mass(image)\n",
    "    tform = SimilarityTransform(translation=(int(curr_center[1] - new_mass_center[1]), \n",
    "                                             int(curr_center[0] - new_mass_center[0])))\n",
    "    #tform = SimilarityTransform(translation=(0, -10))\n",
    "    warped = warp(image, tform)\n",
    "    warped[np.where(warped > 0)] = 255\n",
    "    return warped\n",
    "\n",
    "def remove_junk(example_img, standard_img):\n",
    "    imnew = intersection(example_img, standard_img)\n",
    "    junk = difference(example_img, standard_img)\n",
    "    return imnew, junk\n",
    "\n",
    "def break_image(example_img, standard_img, breaking_fun):\n",
    "    imnew, junk = remove_junk(example_img, standard_img)\n",
    "    defect = breaking_fun(imnew)\n",
    "    return union(defect, junk)"
   ]
  },
  {
   "cell_type": "code",
   "execution_count": 18,
   "metadata": {},
   "outputs": [
    {
     "data": {
      "image/png": "[encoded data removed]",
      "text/plain": [
       "<matplotlib.figure.Figure at 0x7f57b4d70050>"
      ]
     },
     "metadata": {},
     "output_type": "display_data"
    },
    {
     "data": {
      "image/png": "[encoded data removed]",
      "text/plain": [
       "<matplotlib.figure.Figure at 0x7f57b4f14f90>"
      ]
     },
     "metadata": {},
     "output_type": "display_data"
    },
    {
     "data": {
      "image/png": "[encoded data removed]",
      "text/plain": [
       "<matplotlib.figure.Figure at 0x7f57b57a6d90>"
      ]
     },
     "metadata": {},
     "output_type": "display_data"
    },
    {
     "data": {
      "image/png": "[encoded data removed]",
      "text/plain": [
       "<matplotlib.figure.Figure at 0x7f57b4db9a90>"
      ]
     },
     "metadata": {},
     "output_type": "display_data"
    }
   ],
   "source": [
    "g_files = glob.glob('../images/trimmed_queries_divorce/divorce/G/*.png')\n",
    "g_array = np.ndarray(shape=(len(g_files), 64, 96))\n",
    "for ind, f in enumerate(g_files):\n",
    "    g_array[ind,:,:] = center_image(255 - imread(f, as_grey=True))\n",
    "    \n",
    "avg_g = np.mean(g_array, axis=0)\n",
    "typical_g = avg_g.copy()\n",
    "typical_g[np.where(typical_g > 20)] = 255\n",
    "typical_g[np.where(typical_g < 255)] = 0\n",
    "\n",
    "\n",
    "img = g_array[2,:,:]\n",
    "plt.imshow(255 - img, cmap=\"gray\")\n",
    "plt.show()\n",
    "\n",
    "defect = break_image(img, typical_g, (lambda x: bend_image(x, center = [50, 50], height=18)))\n",
    "plt.imshow(255 - defect, cmap=\"gray\")\n",
    "plt.show()\n",
    "\n",
    "defect = break_image(img, typical_g, band_break_image)\n",
    "plt.imshow(255 - defect, cmap=\"gray\")\n",
    "plt.show()\n",
    "\n",
    "defect = break_image(img, typical_g, notch_break_image)\n",
    "plt.imshow(255 - defect, cmap=\"gray\")\n",
    "plt.show()"
   ]
  },
  {
   "cell_type": "code",
   "execution_count": 16,
   "metadata": {},
   "outputs": [
    {
     "ename": "NameError",
     "evalue": "name 'warped' is not defined",
     "output_type": "error",
     "traceback": [
      "\u001b[0;31m---------------------------------------------------------------------------\u001b[0m",
      "\u001b[0;31mNameError\u001b[0m                                 Traceback (most recent call last)",
      "\u001b[0;32m<ipython-input-16-c54508f4ba48>\u001b[0m in \u001b[0;36m<module>\u001b[0;34m()\u001b[0m\n\u001b[0;32m----> 1\u001b[0;31m \u001b[0mbent\u001b[0m \u001b[0;34m=\u001b[0m \u001b[0mbend_image\u001b[0m\u001b[0;34m(\u001b[0m\u001b[0mwarped\u001b[0m\u001b[0;34m,\u001b[0m \u001b[0mcenter\u001b[0m \u001b[0;34m=\u001b[0m \u001b[0;34m[\u001b[0m\u001b[0;36m35\u001b[0m\u001b[0;34m,\u001b[0m \u001b[0;36m35\u001b[0m\u001b[0;34m]\u001b[0m\u001b[0;34m,\u001b[0m \u001b[0mwidth\u001b[0m \u001b[0;34m=\u001b[0m \u001b[0;36m20\u001b[0m\u001b[0;34m,\u001b[0m \u001b[0mheight\u001b[0m \u001b[0;34m=\u001b[0m \u001b[0;36m15\u001b[0m\u001b[0;34m,\u001b[0m \u001b[0mangle\u001b[0m \u001b[0;34m=\u001b[0m \u001b[0;36m0\u001b[0m\u001b[0;34m)\u001b[0m\u001b[0;34m\u001b[0m\u001b[0m\n\u001b[0m\u001b[1;32m      2\u001b[0m \u001b[0mplt\u001b[0m\u001b[0;34m.\u001b[0m\u001b[0mimshow\u001b[0m\u001b[0;34m(\u001b[0m\u001b[0;36m255\u001b[0m \u001b[0;34m-\u001b[0m \u001b[0mbent\u001b[0m\u001b[0;34m,\u001b[0m \u001b[0mcmap\u001b[0m\u001b[0;34m=\u001b[0m\u001b[0;34m\"gray\"\u001b[0m\u001b[0;34m)\u001b[0m\u001b[0;34m\u001b[0m\u001b[0m\n\u001b[1;32m      3\u001b[0m \u001b[0mplt\u001b[0m\u001b[0;34m.\u001b[0m\u001b[0mshow\u001b[0m\u001b[0;34m(\u001b[0m\u001b[0;34m)\u001b[0m\u001b[0;34m\u001b[0m\u001b[0m\n\u001b[1;32m      4\u001b[0m \u001b[0;34m\u001b[0m\u001b[0m\n\u001b[1;32m      5\u001b[0m \u001b[0mbent\u001b[0m \u001b[0;34m=\u001b[0m \u001b[0mbend_image\u001b[0m\u001b[0;34m(\u001b[0m\u001b[0mwarped\u001b[0m\u001b[0;34m,\u001b[0m \u001b[0mcenter\u001b[0m \u001b[0;34m=\u001b[0m \u001b[0;34m[\u001b[0m\u001b[0;36m50\u001b[0m\u001b[0;34m,\u001b[0m \u001b[0;36m50\u001b[0m\u001b[0;34m]\u001b[0m\u001b[0;34m,\u001b[0m \u001b[0mheight\u001b[0m\u001b[0;34m=\u001b[0m\u001b[0;36m15\u001b[0m\u001b[0;34m)\u001b[0m\u001b[0;34m\u001b[0m\u001b[0m\n",
      "\u001b[0;31mNameError\u001b[0m: name 'warped' is not defined"
     ]
    }
   ],
   "source": [
    "bent = bend_image(warped, center = [35, 35], width = 20, height = 15, angle = 0)\n",
    "plt.imshow(255 - bent, cmap=\"gray\")\n",
    "plt.show()\n",
    "\n",
    "bent = bend_image(warped, center = [50, 50], height=15)\n",
    "plt.imshow(255 - bent, cmap=\"gray\")\n",
    "plt.show()\n",
    "\n",
    "bent = bend_image(warped, center = [50, 40], width = 20, height = 10, angle = -0.8, dist_shift = 8)\n",
    "plt.imshow(255 - bent, cmap=\"gray\")\n",
    "plt.show()\n",
    "\n",
    "bent = bend_image(warped, center = [15, 35], width = 20, height = 10, angle = 0.8, dist_shift = 8)\n",
    "plt.imshow(255 - bent, cmap=\"gray\")\n",
    "plt.show()\n",
    "\n",
    "bent = bend_image(warped, center = [15, 50], width = 15, height = 20, angle = 0)\n",
    "#plt.imshow(255 - bent, cmap=\"gray\")\n",
    "#plt.show()\n",
    "\n",
    "bent = bend_image(warped, center = [15, 55], width = 10, height = 20, angle = 0)\n",
    "plt.imshow(255 - bent, cmap=\"gray\")\n",
    "plt.show()"
   ]
  }
 ],
 "metadata": {
  "kernelspec": {
   "display_name": "Python 2",
   "language": "python",
   "name": "python2"
  },
  "language_info": {
   "codemirror_mode": {
    "name": "ipython",
    "version": 2
   },
   "file_extension": ".py",
   "mimetype": "text/x-python",
   "name": "python",
   "nbconvert_exporter": "python",
   "pygments_lexer": "ipython2",
   "version": "2.7.14"
  }
 },
 "nbformat": 4,
 "nbformat_minor": 2
}
