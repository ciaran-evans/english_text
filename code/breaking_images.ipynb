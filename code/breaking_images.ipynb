{
 "cells": [
  {
   "cell_type": "code",
   "execution_count": 1,
   "metadata": {
    "collapsed": true
   },
   "outputs": [],
   "source": [
    "import numpy as np\n",
    "from matplotlib import pyplot as plt\n",
    "import glob\n",
    "from skimage.io import imread\n",
    "from skimage.draw import polygon_perimeter, polygon\n",
    "from skimage.morphology import label, medial_axis, skeletonize\n",
    "from scipy.ndimage.measurements import center_of_mass\n",
    "from skimage.draw import bezier_curve\n",
    "from scipy.ndimage.morphology import binary_fill_holes\n",
    "from skimage.transform import warp, SimilarityTransform\n",
    "from skimage.graph import route_through_array"
   ]
  },
  {
   "cell_type": "code",
   "execution_count": 2,
   "metadata": {
    "collapsed": true
   },
   "outputs": [],
   "source": [
    "img1 = 255 - imread('../images/trimmed_queries_divorce/divorce/G/0_extraction_doc_12_line_23_char_46_original_trim.png', as_grey=True) \n",
    "img2 = 255 - imread('../images/trimmed_queries_divorce/queries/G/extraction_doc_13_line_7_char_17_original_trim.png', as_grey=True)\n",
    "img3 = 255 - imread('../images/trimmed_queries_divorce/divorce/G/1_extraction_doc_5_line_35_char_49_original_trim.png', as_grey=True)"
   ]
  },
  {
   "cell_type": "code",
   "execution_count": 33,
   "metadata": {},
   "outputs": [
    {
     "data": {
      "image/png": "[encoded data removed]",
      "text/plain": [
       "<matplotlib.figure.Figure at 0x7f64e4594350>"
      ]
     },
     "metadata": {},
     "output_type": "display_data"
    }
   ],
   "source": [
    "def intersection(ima, imb):\n",
    "    img = ima.copy()\n",
    "    img[np.where(ima != imb)] = 0\n",
    "    return img\n",
    "\n",
    "def union(ima, imb):\n",
    "    img = ima.copy()\n",
    "    img[np.where(imb > 0)] = 255\n",
    "    return img\n",
    "\n",
    "# returns the components of ima that are not in imb\n",
    "# (i.e., deletes imb from ima)\n",
    "def difference(ima, imb):\n",
    "    img = ima.copy()\n",
    "    img[np.where(imb > 0)] = 0\n",
    "    return img\n",
    "\n",
    "def create_rectangle(center, height, width, angle, filled = True, shape = (64, 96)):\n",
    "    rot_mat = np.array([[np.cos(angle), np.sin(angle)], [-1*np.sin(angle), np.cos(angle)]])\n",
    "    corners = np.array([[height/2.0, -1*height/2.0, -1*height/2.0, height/2.0],\n",
    "                       [width/2.0, width/2.0, -1*width/2.0, -1*width/2.0]])\n",
    "    corners =  np.transpose(np.matmul(rot_mat, corners) + np.array([[center[0]], [center[1]]])).astype(np.int32)\n",
    "    \n",
    "    rect = np.zeros((64, 96), dtype=np.uint8)\n",
    "    if filled:\n",
    "        rr, cc = polygon(corners[:,0],\n",
    "                                   corners[:,1], shape=rect.shape)\n",
    "    else:\n",
    "        rr, cc = polygon_perimeter(corners[:,0],\n",
    "                                   corners[:,1], shape=rect.shape, clip=True)\n",
    "    rect[rr, cc] = 255\n",
    "    return rect\n",
    "\n",
    "def closest_point(node, nodes):\n",
    "    nodes = np.asarray(nodes)\n",
    "    dist_2 = np.sum((nodes - node)**2, axis=1)\n",
    "    return nodes[np.argmin(dist_2),:].tolist()\n",
    "\n",
    "def choose_endpts(skeleton, distance):\n",
    "    skel_pts = np.where(skeleton > 0)\n",
    "    \n",
    "    possible_pts = []\n",
    "    for attempt in range(1000):\n",
    "        rand_index = np.random.choice(range(len(skel_pts[0])), 1)\n",
    "        end1 = [skel_pts[0][rand_index][0], skel_pts[1][rand_index][0]]\n",
    "    \n",
    "        costs = 255 - skeleton + 1\n",
    "        for i in range(len(skel_pts[0])):\n",
    "            pt = [skel_pts[0][i], skel_pts[1][i]]\n",
    "            _, dist = route_through_array(costs, end1, pt, geometric=False)\n",
    "            if dist == distance:\n",
    "                possible_pts = possible_pts + [pt]\n",
    "        if len(possible_pts) > 0:\n",
    "            break\n",
    "    end2 = possible_pts[np.random.choice(range(len(possible_pts)), 1)[0]]\n",
    "    \n",
    "    return end1, end2\n",
    "\n",
    "def perpendicular_angle(end1, end2):\n",
    "    angle = np.arctan2((np.array(end1) - np.array(end2))[0], (np.array(end1) - np.array(end2))[1])\n",
    "    return [angle + np.pi/2.0, angle - np.pi/2.0]\n",
    "\n",
    "def random_endpts_angle(end1, end2):\n",
    "    angle = np.random.choice(perpendicular_angle(end1, end2), 1)\n",
    "    return angle[0]\n",
    "\n",
    "def shift_midpoint(end1, end2, angle, dist_shift):\n",
    "    init_mid = (np.array(end1) + np.array(end2))/2.0\n",
    "    rot_mat = np.array([[np.cos(angle), np.sin(angle)], [-1*np.sin(angle), np.cos(angle)]])\n",
    "    return np.matmul(rot_mat, np.array([[0], [dist_shift]])) + np.array([[init_mid[0]], [init_mid[1]]])\n",
    "\n",
    "def bend_skel_with_endpts(skel, end1, end2, dist_shift):\n",
    "    angle = random_endpts_angle(end1, end2)\n",
    "    mid = shift_midpoint(end1, end2, angle, dist_shift).astype(np.uint8)\n",
    "    \n",
    "    # delete the points from the path\n",
    "    path, _ = route_through_array(255 - skel, end1, end2)\n",
    "    skelnew = skel.copy()\n",
    "    for pt in path:\n",
    "        skelnew[pt] = 0\n",
    "    \n",
    "    rr, cc = bezier_curve(end1[0], end1[1], mid[0][0], mid[1][0],\n",
    "                        end2[0], end2[1], 2)\n",
    "    skelnew[rr, cc] = 255\n",
    "    \n",
    "    return skelnew\n",
    "\n",
    "def bend_skel(skel, distance, dist_shift):\n",
    "    end1, end2 = choose_endpts(skel, distance)\n",
    "    return bend_skel_with_endpts(skel, end1, end2, dist_shift)\n",
    "\n",
    "def remove_path(image, orig_skel, new_skel):\n",
    "    imnew = image.copy()\n",
    "    path = np.column_stack(np.where(difference(orig_skel, new_skel) > 0)).tolist()\n",
    "    \n",
    "    skel_pts = np.column_stack(np.where(orig_skel > 0)).tolist()\n",
    "    for pt in np.column_stack(np.where(image > 0)).tolist():\n",
    "        if closest_point(pt, skel_pts) in path:\n",
    "            imnew[pt[0], pt[1]] = 0\n",
    "    return imnew\n",
    "\n",
    "def add_bend(image, orig_skel, bent_skel):\n",
    "    imnew = remove_path(image, orig_skel, bent_skel)\n",
    "    new_section = np.column_stack(np.where(difference(bent_skel, orig_skel) > 0)).tolist()\n",
    "    old_section = np.column_stack(np.where(difference(orig_skel, bent_skel) > 0)).tolist()\n",
    "    \n",
    "    _, dist = medial_axis(image, return_distance=True)\n",
    "    \n",
    "    for pt in new_section:\n",
    "        old_pt = closest_point(pt, old_section)\n",
    "        size = int(dist[old_pt[0], old_pt[1]]) + 1\n",
    "        imnew = imnew + create_rectangle(pt, size, size, 0)\n",
    "    \n",
    "    imnew[np.where(imnew > 0)] = 255\n",
    "    \n",
    "    return imnew\n",
    "\n",
    "def bend_image(image, distance = 13, dist_shift = 9):\n",
    "    skel = skeletonize(image/255.)*255.\n",
    "    bent_skel = bend_skel(skel, distance, dist_shift)\n",
    "    imnew = add_bend(image, skel, bent_skel)\n",
    "    return imnew\n",
    "    \n",
    "\n",
    "imnew = bend_image(img1)\n",
    "plt.imshow(imnew)\n",
    "plt.show()"
   ]
  },
  {
   "cell_type": "code",
   "execution_count": 46,
   "metadata": {},
   "outputs": [
    {
     "data": {
      "image/png": "[encoded data removed]",
      "text/plain": [
       "<matplotlib.figure.Figure at 0x7f64e418ff10>"
      ]
     },
     "metadata": {},
     "output_type": "display_data"
    }
   ],
   "source": [
    "g_files = glob.glob('../images/trimmed_queries_divorce/divorce/G/*.png')\n",
    "g_array = np.ndarray(shape=(len(g_files), 64, 96))\n",
    "for ind, f in enumerate(g_files):\n",
    "    g_array[ind,:,:] = 255 - imread(f, as_grey=True)\n",
    "    \n",
    "img = g_array[20,:,:]\n",
    "\n",
    "imnew = bend_image(img)\n",
    "plt.imshow(imnew)\n",
    "plt.show()"
   ]
  }
 ],
 "metadata": {
  "kernelspec": {
   "display_name": "Python 2",
   "language": "python",
   "name": "python2"
  },
  "language_info": {
   "codemirror_mode": {
    "name": "ipython",
    "version": 2
   },
   "file_extension": ".py",
   "mimetype": "text/x-python",
   "name": "python",
   "nbconvert_exporter": "python",
   "pygments_lexer": "ipython2",
   "version": "2.7.14"
  }
 },
 "nbformat": 4,
 "nbformat_minor": 2
}
