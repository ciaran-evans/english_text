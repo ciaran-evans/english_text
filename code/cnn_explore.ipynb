{
 "cells": [
  {
   "cell_type": "markdown",
   "metadata": {},
   "source": [
    "We start off by trying out an example CNN on the MNIST data set:"
   ]
  },
  {
   "cell_type": "code",
   "execution_count": 1,
   "metadata": {},
   "outputs": [
    {
     "name": "stderr",
     "output_type": "stream",
     "text": [
      "Using TensorFlow backend.\n"
     ]
    }
   ],
   "source": [
    "from __future__ import print_function\n",
    "import keras\n",
    "from keras.datasets import mnist\n",
    "from keras.models import Sequential\n",
    "from keras.layers import Dense, Dropout, Flatten\n",
    "from keras.layers import Conv2D, MaxPooling2D\n",
    "from keras import backend as K"
   ]
  },
  {
   "cell_type": "code",
   "execution_count": 5,
   "metadata": {},
   "outputs": [],
   "source": [
    "batch_size = 128\n",
    "num_classes = 10\n",
    "epochs = 12\n",
    "\n",
    "# input image dimensions\n",
    "img_rows, img_cols = 28, 28\n",
    "\n",
    "# the data, shuffled and split between train and test sets\n",
    "(x_train, y_train), (x_test, y_test) = mnist.load_data()\n",
    "\n"
   ]
  },
  {
   "cell_type": "code",
   "execution_count": 7,
   "metadata": {},
   "outputs": [
    {
     "data": {
      "text/plain": [
       "(60000,)"
      ]
     },
     "execution_count": 7,
     "metadata": {},
     "output_type": "execute_result"
    }
   ],
   "source": [
    "x_train.shape[0]\n",
    "y_train.shape"
   ]
  },
  {
   "cell_type": "code",
   "execution_count": 4,
   "metadata": {},
   "outputs": [
    {
     "data": {
      "text/plain": [
       "60000"
      ]
     },
     "execution_count": 4,
     "metadata": {},
     "output_type": "execute_result"
    }
   ],
   "source": [
    "x_train = x_train.reshape(x_train.shape[0], img_rows, img_cols, 1)\n",
    "x_test = x_test.reshape(x_test.shape[0], img_rows, img_cols, 1)\n",
    "input_shape = (img_rows, img_cols, 1)\n",
    "y_train.shape"
   ]
  },
  {
   "cell_type": "code",
   "execution_count": 21,
   "metadata": {},
   "outputs": [
    {
     "data": {
      "image/png": "[encoded data removed]",
      "text/plain": [
       "<matplotlib.figure.Figure at 0x7fba60e09c50>"
      ]
     },
     "metadata": {},
     "output_type": "display_data"
    }
   ],
   "source": [
    "from matplotlib import pyplot as plt\n",
    "plt.imshow(x_train[1,:,:,0], cmap=\"gray\")\n",
    "plt.show()"
   ]
  },
  {
   "cell_type": "code",
   "execution_count": 32,
   "metadata": {},
   "outputs": [
    {
     "data": {
      "text/plain": [
       "(60000, 10)"
      ]
     },
     "execution_count": 32,
     "metadata": {},
     "output_type": "execute_result"
    }
   ],
   "source": [
    "x_train = x_train.astype('float32')\n",
    "x_test = x_test.astype('float32')\n",
    "x_train /= 255\n",
    "x_test /= 255\n",
    "\n",
    "# convert class vectors to binary class matrices\n",
    "# i.e., convert class value (0, 1, 2,...,9) to a length-10 1-hot vector\n",
    "y_train = keras.utils.to_categorical(y_train, num_classes)\n",
    "y_test = keras.utils.to_categorical(y_test, num_classes)\n",
    "y_train.shape"
   ]
  },
  {
   "cell_type": "code",
   "execution_count": 45,
   "metadata": {
    "collapsed": true
   },
   "outputs": [],
   "source": [
    "import numpy as np\n",
    "val_ind = np.random.choice(range(60000), 5000, replace=False)\n",
    "train_ind = np.setdiff1d(range(60000), val_ind)\n",
    "x_val = x_train[val_ind,:,:]\n",
    "x_train = x_train[train_ind,:,:]\n",
    "y_val = y_train[val_ind,:]\n",
    "y_train = y_train[train_ind,:]"
   ]
  },
  {
   "cell_type": "code",
   "execution_count": 46,
   "metadata": {},
   "outputs": [
    {
     "data": {
      "text/plain": [
       "(55000, 10)"
      ]
     },
     "execution_count": 46,
     "metadata": {},
     "output_type": "execute_result"
    }
   ],
   "source": [
    "x_train.shape\n",
    "y_train.shape"
   ]
  },
  {
   "cell_type": "code",
   "execution_count": 47,
   "metadata": {},
   "outputs": [
    {
     "name": "stdout",
     "output_type": "stream",
     "text": [
      "Train on 55000 samples, validate on 5000 samples\n",
      "Epoch 1/2\n",
      "55000/55000 [==============================] - 73s 1ms/step - loss: 1.1950 - acc: 0.6236 - val_loss: 0.3851 - val_acc: 0.8898\n",
      "Epoch 2/2\n",
      "55000/55000 [==============================] - 73s 1ms/step - loss: 0.4626 - acc: 0.8573 - val_loss: 0.2860 - val_acc: 0.9140\n",
      "Test loss: 0.251330964833\n",
      "Test accuracy: 0.9264\n"
     ]
    }
   ],
   "source": [
    "model = Sequential()\n",
    "model.add(Conv2D(32, kernel_size=(3, 3),\n",
    "                 activation='relu',\n",
    "                 input_shape=input_shape))\n",
    "model.add(Conv2D(64, (3, 3), activation='relu'))\n",
    "model.add(MaxPooling2D(pool_size=(2, 2)))\n",
    "model.add(Dropout(0.25))\n",
    "model.add(Flatten())\n",
    "model.add(Dense(128, activation='relu'))\n",
    "model.add(Dropout(0.5))\n",
    "model.add(Dense(num_classes, activation='softmax'))\n",
    "\n",
    "model.compile(loss=keras.losses.categorical_crossentropy,\n",
    "              optimizer=keras.optimizers.SGD(),\n",
    "              metrics=['accuracy'])\n",
    "\n",
    "model.fit(x_train, y_train,\n",
    "          batch_size=batch_size,\n",
    "          epochs=2,\n",
    "          verbose=1,\n",
    "          validation_data=(x_val, y_val))\n",
    "score = model.evaluate(x_test, y_test, verbose=0)\n",
    "print('Test loss:', score[0])\n",
    "print('Test accuracy:', score[1])"
   ]
  },
  {
   "cell_type": "markdown",
   "metadata": {},
   "source": [
    "Just to try it out, lets try building a model like this on the letter data."
   ]
  },
  {
   "cell_type": "code",
   "execution_count": 60,
   "metadata": {},
   "outputs": [
    {
     "data": {
      "text/plain": [
       "2689"
      ]
     },
     "execution_count": 60,
     "metadata": {},
     "output_type": "execute_result"
    }
   ],
   "source": [
    "import glob\n",
    "G_files = glob.glob('../images/trimmed_queries_divorce/divorce/G/*.png')\n",
    "y_files = glob.glob('../images/trimmed_queries_divorce/divorce/y/*.png')\n",
    "\n",
    "label_G = np.zeros(len(G_files)).tolist()\n",
    "label_y = np.ones(len(y_files)).tolist()"
   ]
  },
  {
   "cell_type": "code",
   "execution_count": 72,
   "metadata": {
    "collapsed": true
   },
   "outputs": [],
   "source": [
    "import cv2\n",
    "G_array = np.ndarray(shape=(len(label_G), 64, 96))\n",
    "for i, name in enumerate(G_files):\n",
    "    im = cv2.imread(name)\n",
    "    G_array[i,:,:] = cv2.cvtColor(im,cv2.COLOR_BGR2GRAY)\n",
    "    \n",
    "y_array = np.ndarray(shape=(len(label_y), 64, 96))\n",
    "for i, name in enumerate(y_files):\n",
    "    im = cv2.imread(name)\n",
    "    y_array[i,:,:] = cv2.cvtColor(im,cv2.COLOR_BGR2GRAY)"
   ]
  },
  {
   "cell_type": "code",
   "execution_count": 89,
   "metadata": {
    "collapsed": true
   },
   "outputs": [],
   "source": [
    "G_train_ind = np.random.choice(range(len(label_G)), int(0.8*len(label_G)), replace=False)\n",
    "G_test_ind = np.setdiff1d(range(len(label_G)), G_train_ind)\n",
    "\n",
    "y_train_ind = np.random.choice(range(len(label_y)), int(0.8*len(label_y)), replace=False)\n",
    "y_test_ind = np.setdiff1d(range(len(label_y)), y_train_ind)\n",
    "\n",
    "G_train = G_array[G_train_ind,:,:]\n",
    "G_test = G_array[G_test_ind,:,:]\n",
    "y_train = y_array[y_train_ind,:,:]\n",
    "y_test = y_array[y_test_ind,:,:]\n",
    "\n",
    "train_data = np.append(G_train, y_train, axis=0)\n",
    "test_data = np.append(G_test, y_test, axis=0)\n",
    "\n",
    "train_label = np.append(np.array(label_G)[G_train_ind], np.array(label_y)[y_train_ind])\n",
    "test_label = np.append(np.array(label_G)[G_test_ind], np.array(label_y)[y_test_ind])"
   ]
  },
  {
   "cell_type": "code",
   "execution_count": 95,
   "metadata": {
    "collapsed": true
   },
   "outputs": [],
   "source": [
    "train_data = train_data.reshape(train_data.shape[0], 64, 96, 1)\n",
    "test_data = test_data.reshape(test_data.shape[0], 64, 96, 1)"
   ]
  },
  {
   "cell_type": "code",
   "execution_count": 97,
   "metadata": {},
   "outputs": [
    {
     "name": "stdout",
     "output_type": "stream",
     "text": [
      "Epoch 1/4\n",
      "2151/2151 [==============================] - 29s 14ms/step - loss: 1.8707 - acc: 0.8819\n",
      "Epoch 2/4\n",
      "2151/2151 [==============================] - 29s 13ms/step - loss: 1.6231 - acc: 0.8982\n",
      "Epoch 3/4\n",
      "2151/2151 [==============================] - 29s 13ms/step - loss: 1.6231 - acc: 0.8982\n",
      "Epoch 4/4\n",
      "2151/2151 [==============================] - 29s 14ms/step - loss: 1.6231 - acc: 0.8982\n",
      "Test loss: 1.6297977179\n",
      "Test accuracy: 0.897769516729\n"
     ]
    }
   ],
   "source": [
    "model = Sequential()\n",
    "model.add(Conv2D(32, kernel_size=(3, 3),\n",
    "                 activation='relu',\n",
    "                 input_shape=(64, 96, 1)))\n",
    "model.add(Conv2D(64, (3, 3), activation='relu'))\n",
    "model.add(MaxPooling2D(pool_size=(2, 2)))\n",
    "model.add(Dropout(0.25))\n",
    "model.add(Flatten())\n",
    "model.add(Dense(128, activation='relu'))\n",
    "model.add(Dropout(0.5))\n",
    "model.add(Dense(1, activation='sigmoid'))\n",
    "\n",
    "model.compile(loss=keras.losses.binary_crossentropy,\n",
    "              optimizer=keras.optimizers.SGD(),\n",
    "              metrics=['accuracy'])\n",
    "\n",
    "model.fit(train_data, train_label,\n",
    "          batch_size=50,\n",
    "          epochs=4,\n",
    "          verbose=1)\n",
    "score = model.evaluate(test_data, test_label, verbose=0)\n",
    "print('Test loss:', score[0])\n",
    "print('Test accuracy:', score[1])"
   ]
  }
 ],
 "metadata": {
  "kernelspec": {
   "display_name": "Python 2",
   "language": "python",
   "name": "python2"
  },
  "language_info": {
   "codemirror_mode": {
    "name": "ipython",
    "version": 2
   },
   "file_extension": ".py",
   "mimetype": "text/x-python",
   "name": "python",
   "nbconvert_exporter": "python",
   "pygments_lexer": "ipython2",
   "version": "2.7.14"
  }
 },
 "nbformat": 4,
 "nbformat_minor": 2
}
